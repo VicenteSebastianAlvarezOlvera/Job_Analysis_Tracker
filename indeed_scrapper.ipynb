{
 "cells": [
  {
   "cell_type": "code",
   "execution_count": 5,
   "metadata": {},
   "outputs": [
    {
     "name": "stdout",
     "output_type": "stream",
     "text": [
      "Requirement already satisfied: webdriver_manager in c:\\python312\\lib\\site-packages (4.0.1)Note: you may need to restart the kernel to use updated packages.\n"
     ]
    },
    {
     "name": "stderr",
     "output_type": "stream",
     "text": [
      "\n",
      "[notice] A new release of pip is available: 23.3.1 -> 24.0\n",
      "[notice] To update, run: python.exe -m pip install --upgrade pip\n"
     ]
    },
    {
     "name": "stdout",
     "output_type": "stream",
     "text": [
      "\n",
      "Requirement already satisfied: requests in c:\\python312\\lib\\site-packages (from webdriver_manager) (2.31.0)\n",
      "Requirement already satisfied: python-dotenv in c:\\python312\\lib\\site-packages (from webdriver_manager) (1.0.1)\n",
      "Requirement already satisfied: packaging in c:\\python312\\lib\\site-packages (from webdriver_manager) (23.2)\n",
      "Requirement already satisfied: charset-normalizer<4,>=2 in c:\\python312\\lib\\site-packages (from requests->webdriver_manager) (3.3.2)\n",
      "Requirement already satisfied: idna<4,>=2.5 in c:\\python312\\lib\\site-packages (from requests->webdriver_manager) (3.4)\n",
      "Requirement already satisfied: urllib3<3,>=1.21.1 in c:\\python312\\lib\\site-packages (from requests->webdriver_manager) (2.0.7)\n",
      "Requirement already satisfied: certifi>=2017.4.17 in c:\\python312\\lib\\site-packages (from requests->webdriver_manager) (2023.7.22)\n"
     ]
    }
   ],
   "source": [
    "pip install webdriver_manager"
   ]
  },
  {
   "cell_type": "code",
   "execution_count": 6,
   "metadata": {},
   "outputs": [],
   "source": [
    "from selenium import webdriver\n",
    "from selenium.webdriver.chrome.service import Service\n",
    "from selenium.webdriver.common.by import By\n",
    "from selenium.webdriver.support.ui import WebDriverWait\n",
    "from selenium.webdriver.support import expected_conditions as EC\n",
    "from webdriver_manager.chrome import ChromeDriverManager\n",
    "from selenium.webdriver.common.keys import Keys\n",
    "import time\n",
    "import csv\n",
    "import pandas as pd\n"
   ]
  },
  {
   "cell_type": "code",
   "execution_count": 7,
   "metadata": {},
   "outputs": [],
   "source": [
    "PATH = \"C:\\\\Program Files (x86)\\\\chromedriver.exe\"\n",
    "\n",
    "# Set up the service\n",
    "service = Service(PATH)\n",
    "\n",
    "# Initialize the Chrome driver\n",
    "driver = webdriver.Chrome(service=service)\n"
   ]
  },
  {
   "cell_type": "code",
   "execution_count": 8,
   "metadata": {},
   "outputs": [],
   "source": [
    "job_details = []\n",
    "columns = [\"title\", \"company\", \"location\", \"benefits\", \"description\", \"skills\"]\n",
    "job_list = pd.DataFrame(columns=columns)\n",
    "\n",
    "\n",
    "def extract_job_details():\n",
    "    \n",
    "    job_elements = driver.find_elements(By.CSS_SELECTOR, \"ul > li.css-5lfssm.eu4oa1w0\")\n",
    "    skills\n",
    "    for job_element in job_elements:\n",
    "        try:\n",
    "            job_element.click()\n",
    "            WebDriverWait(driver, 10).until(\n",
    "                EC.presence_of_element_located((By.ID, \"jobsearch-ViewjobPaneWrapper\"))\n",
    "            )\n",
    "            \n",
    "            job_title = driver.find_element(By.CSS_SELECTOR, \"h2.jobsearch-JobInfoHeader-title.css-1t78hkx.e1tiznh50\").text\n",
    "            company_name = driver.find_element(By.CSS_SELECTOR, \"a.css-1ioi40n.e19afand0\").text\n",
    "            job_location = driver.find_element(By.CSS_SELECTOR, \"div.css-waniwe.eu4oa1w0\").text\n",
    "            # Try to get the job benefits, if present\n",
    "            try:\n",
    "                job_benefits = driver.find_element(By.CSS_SELECTOR, \"div.css-1oelwk6.eu4oa1w0\").text\n",
    "            except:\n",
    "                job_benefits = \"N/A\"  # Assign a default value if benefits section is not found\n",
    "            \n",
    "            # Try to get the job skills, if present\n",
    "            try:\n",
    "                try:\n",
    "                    more_skills = driver.find_element(By.CSS_SELECTOR, \"button.js-match-insights-provider-1hvu6ko.e19afand0\")\n",
    "                    more_skills.click()\n",
    "                except:\n",
    "                    skills = driver.find_element(By.CSS_SELECTOR, \"ul.js-match-insights-provider-18foz0k.eu4oa1w0\").text\n",
    "                for skill in skills:\n",
    "                    job_skills = driver.find_element(By.CSS_SELECTOR, \"div.css-1t5f0m3.eu4oa1w0\").text\n",
    "            except: \n",
    "                skills = \"N/A\"\n",
    "\n",
    "            job_description = driver.find_element(By.ID, \"jobDescriptionText\").text\n",
    "            \n",
    "            job_details.append({\n",
    "                \"title\": job_title,\n",
    "                \"company\": company_name,\n",
    "                \"location\": job_location,\n",
    "                \"benefits\": job_benefits,\n",
    "                \"description\": job_description,\n",
    "                \"skills\": job_skills,\n",
    "            })\n",
    "            print(f\"Extracted job details for: {job_title}\")\n",
    "        except Exception as e:\n",
    "            print(f\"Error extracting job details: {e}\")\n",
    "        finally:\n",
    "            # Go back to the job listings page\n",
    "            driver.execute_script(\"window.history.go(-1)\")\n",
    "            time.sleep(2)  # Adjust as necessary\n",
    "    \n",
    "    return job_details\n",
    "\n",
    "def save_to_csv(job_details, filename=\"job_listings.csv\"):\n",
    "    keys = job_details[0].keys()\n",
    "    with open(filename, 'w', newline='', encoding='utf-8') as output_file:\n",
    "        dict_writer = csv.DictWriter(output_file, fieldnames=keys)\n",
    "        dict_writer.writeheader()\n",
    "        dict_writer.writerows(job_details)\n",
    "\n"
   ]
  },
  {
   "cell_type": "code",
   "execution_count": 9,
   "metadata": {},
   "outputs": [
    {
     "ename": "UnboundLocalError",
     "evalue": "cannot access local variable 'skills' where it is not associated with a value",
     "output_type": "error",
     "traceback": [
      "\u001b[1;31m---------------------------------------------------------------------------\u001b[0m",
      "\u001b[1;31mUnboundLocalError\u001b[0m                         Traceback (most recent call last)",
      "Cell \u001b[1;32mIn[9], line 7\u001b[0m\n\u001b[0;32m      2\u001b[0m driver\u001b[38;5;241m.\u001b[39mget(\u001b[38;5;124m\"\u001b[39m\u001b[38;5;124mhttps://mx.indeed.com/jobs?q=&l=Cancún\u001b[39m\u001b[38;5;124m%\u001b[39m\u001b[38;5;124m2C+QRoo&fromage=7&vjk=dbdfabc0f3dd67c1&advn=4649899438200304\u001b[39m\u001b[38;5;124m\"\u001b[39m)\n\u001b[0;32m      3\u001b[0m \u001b[38;5;66;03m#job_details = driver.find_element(By.TAG_NAME, 'li')  # Find the search box\u001b[39;00m\n\u001b[0;32m      4\u001b[0m \u001b[38;5;66;03m# Close the browser\u001b[39;00m\n\u001b[1;32m----> 7\u001b[0m \u001b[43mextract_job_details\u001b[49m\u001b[43m(\u001b[49m\u001b[43m)\u001b[49m\n\u001b[0;32m      9\u001b[0m \u001b[38;5;28mprint\u001b[39m(job_details)\n\u001b[0;32m     11\u001b[0m driver\u001b[38;5;241m.\u001b[39mquit()\n",
      "Cell \u001b[1;32mIn[8], line 9\u001b[0m, in \u001b[0;36mextract_job_details\u001b[1;34m()\u001b[0m\n\u001b[0;32m      6\u001b[0m \u001b[38;5;28;01mdef\u001b[39;00m \u001b[38;5;21mextract_job_details\u001b[39m():\n\u001b[0;32m      8\u001b[0m     job_elements \u001b[38;5;241m=\u001b[39m driver\u001b[38;5;241m.\u001b[39mfind_elements(By\u001b[38;5;241m.\u001b[39mCSS_SELECTOR, \u001b[38;5;124m\"\u001b[39m\u001b[38;5;124mul > li.css-5lfssm.eu4oa1w0\u001b[39m\u001b[38;5;124m\"\u001b[39m)\n\u001b[1;32m----> 9\u001b[0m     \u001b[43mskills\u001b[49m\n\u001b[0;32m     10\u001b[0m     \u001b[38;5;28;01mfor\u001b[39;00m job_element \u001b[38;5;129;01min\u001b[39;00m job_elements:\n\u001b[0;32m     11\u001b[0m         \u001b[38;5;28;01mtry\u001b[39;00m:\n",
      "\u001b[1;31mUnboundLocalError\u001b[0m: cannot access local variable 'skills' where it is not associated with a value"
     ]
    }
   ],
   "source": [
    "# Example usage: Navigate to a website\n",
    "driver.get(\"https://mx.indeed.com/jobs?q=&l=Cancún%2C+QRoo&fromage=7&vjk=dbdfabc0f3dd67c1&advn=4649899438200304\")\n",
    "#job_details = driver.find_element(By.TAG_NAME, 'li')  # Find the search box\n",
    "# Close the browser\n",
    "\n",
    "\n",
    "extract_job_details()\n",
    "\n",
    "print(job_details)\n",
    "\n",
    "driver.quit()"
   ]
  },
  {
   "cell_type": "code",
   "execution_count": null,
   "metadata": {},
   "outputs": [
    {
     "data": {
      "text/plain": [
       "[{'title': 'Ejecutivo de Calidad\\n- job post',\n",
       "  'company': 'FORCE CONTROL DE PLAGAS',\n",
       "  'location': 'Cancún, QRoo.',\n",
       "  'benefits': 'Aumentos salariales\\nDispositivo móvil de la empresa\\nOpción a contrato indefinido\\nTeléfono de la empresa\\nUniformes gratuitos',\n",
       "  'description': 'Compañía líder en saneamiento ambiental en el estado de Quintana Roo, está buscando a un profesional que contribuya en la expansión en la Riviera Maya con su experiencia y conocimiento a la mejora en la estandarización de nuestros servicios, por ello te invitamos a ser parte de nuestro equipo de colaboradores con el puesto de “EJECUTIVO DE CALIDAD”\\nRequisitos:\\nEgresado en Ingeniería Industrial, Ambiental, Agrónomo, Procesos Alimentarios, Biólogo, Licenciatura en Administración, o carrera afín.\\nExperiencia de 3 años en puesto similar, incluyendo al cumplimiento de requisitos de seguridad alimentaria o sistemas de gestión de calidad.\\nExperiencia de 3 años en gestión de personal y liderazgo.\\nLicencia de manejo vigente (PREFERENTE)\\nActividades:\\nAsegurar el cumplimiento de actividades y programas que desempeñan los técnicos\\nBrindar soporte a los Técnicos (requisición y entrega de insumos, documentos)\\nBrindar soporte a los Clientes (entrega de documentos digitales, cotizaciones, informes)\\nCapacitación a personal operativo.\\nRealizar Auditorías a los clientes.\\nBeneficios:\\nPrestaciones de Ley\\nUniforme\\nPlan de crecimiento profesional\\nEntrega de celular con plan telefónico\\nSeguro de asistencia médica particular\\nEdad e 35 a 45 años.\\nSalario Neto: $12,000.00 al mes + bonos\\nTipo de trabajo: lunes a viernes en oficina / sábados home office\\nHorario: Turno de 8 horas\\nCertificación / conocimiento (deseable): conocimientos básicos en Seguridad e Higiene, ISO 9001, ISO 14001, HACCP o Six Sigma.\\nTipo de puesto: Tiempo completo\\nSueldo: A partir de $12,000.00 al mes\\nHorario:\\nIncluye fines de semana\\nLunes a viernes\\nTurno de 8 horas\\nTurno matutino\\nPrestaciones:\\nAumentos salariales\\nOpción a contrato indefinido\\nTeléfono de la empresa\\nUniformes gratuitos\\nLugar de trabajo: Empleo presencial'},\n",
       " {'title': 'Auxiliar de mantenimiento general\\n- job post',\n",
       "  'company': 'Hitech Administraciones',\n",
       "  'location': 'Cancún, QRoo.',\n",
       "  'benefits': 'Oportunidades de crecimiento\\nUniformes gratuitos\\nVales de despensa',\n",
       "  'description': 'Descripción: Conocimientos en plomería, electricidad, albañilería y pintura. Experiencia comprobable. Disponibilidad de horario. Vehículo propio.\\nOportunidad de crecimiento y prestaciones de ley.\\nTipo de puesto: Tiempo completo\\nSueldo: A partir de $12,500.00 al mes\\nHorario:\\nRotativo\\nTurno de 8 horas\\nPrestaciones:\\nUniformes gratuitos\\nVales de despensa\\nTipos de compensaciones:\\nBono de puntualidad\\nLugar de trabajo: Empleo presencial\\nFecha de inicio prevista: 01/11/2023'},\n",
       " {'title': 'Cocinero A\\n- job post',\n",
       "  'company': 'Mexicanissimo Mexican Fast Food',\n",
       "  'location': 'Cancún, QRoo.',\n",
       "  'benefits': 'Aumentos salariales\\nAyuda o servicio de transporte\\nGastos de desplazamiento\\nServicio de comedor\\nServicio de transporte',\n",
       "  'description': 'Se solicita Cocinero A con experiencia en comida mexicana. Contratación inmediata. En Villas del Arte Cancún Qroo.\\nSe trabajan 9 hrs diarias de Lunes a Sábado, descansamos el domingo\\nSu horario es de 3:00 am a 12:00 pm\\nOfrecemos\\nSueldo $9,000 quincenal\\nApoyamos con hospedaje\\nServicio de comedor\\nCapacitación\\nPrestaciones de ley\\nSeguridad laboral\\nPosibilidad de crecimiento y aumentos salariales\\nResponsabilidades y habilidades necesarias\\nUsted es responsable de la producción de los alimentos del día en tiempo y forma con el apoyo de los elementos de cocina\\nMantener limpia su área de trabajo y mantener la limpieza de la cocina en general con el apoyo de los ayudantes y lavaloza\\nAlta presentación personal. Cofia, filipina negra, pantalón negro, zapatos antiderrapantes.\\nExperiencia en comida mexicana\\nSaber trabajar sobre el tiempo, saber trabajar bajo presión\\nBuena comunicación y trabajo en equipo\\nTipo de puesto: Tiempo completo\\nSueldo: $18,000.00 al mes\\nHorario:\\nDisponibilidad en noches\\nIncluye días feriados\\nPrestaciones:\\nAumentos salariales\\nAyuda o servicio de transporte\\nServicio de comedor\\nTipos de compensaciones:\\nBono de permanencia\\nLugar de trabajo: Empleo presencial'},\n",
       " {'title': 'Victoria´s Secret La isla Cancun solicita vendedor de temporada\\n- job post',\n",
       "  'company': 'Grupo Axo',\n",
       "  'location': 'Cancún, QRoo.',\n",
       "  'benefits': 'N/A',\n",
       "  'description': 'VICTORIA´S SECRET SOLICITA VENDEDOR DE TEMPORADA PARA LA ISLA CANCUN\\nRequisitos:\\n· Escolaridad: Bachillerato trunco o terminado\\n· Sin Experiencia\\n· Disponibilidad de tiempo- completo en horario comercial (Lunes a Domingo de 12:00 a.m. a 9:00 p.m. con 1 hora de comida y 1 día de descanso entre semana).\\nActividades a desarrollar:\\n· Brindar una atención personalizada y con excelencia a nuestros clientes.\\n· Ventas.\\n· Recepción y acomodo de mercancía.\\nHabilidades:\\n· Trabajo bajo presión.\\n· Facilidad de palabra.\\nOfrecemos:\\n· Sueldo base$8280 mensuales\\n· Bonos de $1656 por puntualidad y asistencia completa\\n· Prestaciones de ley.\\n· Posibilidad de quedarte si hay vacantes fijas\\n· Excelente ambiente de trabajo.\\nTipo de puesto: Tiempo completo, Por tiempo indeterminado\\nSueldo: $8,280.00 - $9,500.00 al mes\\nHorario:\\nTurno de 8 horas\\nEscolaridad:\\nBachillerato terminado (Deseable)\\nExperiencia:\\nVentas: 1 año (Deseable)\\nLugar de trabajo: Empleo presencial'},\n",
       " {'title': 'OPC in office\\n- job post',\n",
       "  'company': 'RESORT GLOBAL NETWORK',\n",
       "  'location': 'Cancún, QRoo.',\n",
       "  'benefits': 'Apoyo para estudios\\nDescuentos y precios preferenciales\\nHorarios flexibles\\nOportunidades de crecimiento\\nServicio de comedor con descuento\\nUniformes gratuitos',\n",
       "  'description': 'Somos un corporativo Contac center o Call center\\nResort Global Network es una empresa internacional con más de 10 años como líder en la venta de paquetes vacacionales trabajando con prestigiosas marcas como:\\nAMResorts (Unlimited Vacation Club)\\nThe Fives\\nSolaris\\nVivenzia\\nLatitude\\nEntre muchos otros.\\nResort Global Network busca a un agente apasionado del servicio que se encargue de todo el proceso antes de la llegada al destino vacacional de un fly & buy. Algunas de sus tareas son reservar estancias, atender solicitudes especiales, venta de servicios adicionales y confirmar los términos y condiciones de su promoción. Además, funge como filtro principal para el club vacacional y encamina al huésped a tener la mejor experiencia durante la presentación de ventas.\\nNuestro Executive Service Agent, personaliza y soluciona vía telefónica las solicitudes de nuestros clientes.\\n¿Está buscando un lugar de trabajo con grandes oportunidades de crecimiento y un gran ambiente?\\n¿La posibilidad de aprender y trabajar con las mejores marcas?\\n¡RGN es el lugar para ti!\\nSolo necesitas:\\nIngles\\nDisponible para vivir y trabajar en Cancún\\nTener habilidades o experiencia en Ventas y/o Servicio al Cliente\\nEl deseo de mejorar sus habilidades y ganar en grande.\\nResponsable\\nExperiencia:\\n1. Inglés Avanzado/ Bilingüe.\\n2. Ventas por comisiones de al menos 1 año.\\n3. Experiencia de Atención al cliente de al menos 1 año.\\nHabilidades:\\n● Atención al detalle\\n● Gusto por las Ventas\\n● Solución y servicio personalizado.\\nOfrecemos:\\n● Horarios de Tiempo completo\\n● Excelente ambiente laboral\\n● Subsidio alimenticio ($15 diarios)\\n● Contrato por Tiempo Indefinido\\n● Salario base + atractivas Comisiones\\n● Prestaciones de Ley\\n● Capacitación y entrenamiento\\n● Desarrollo profesional\\nTipo de puesto: Tiempo completo, Por tiempo indeterminado\\nSueldo: $20,000.00 - $40,000.00 al mes\\nHorario:\\nTurno de 10 horas\\nPrestaciones:\\nDescuentos y precios preferenciales\\nHorarios flexibles\\nServicio de comedor con descuento\\nUniformes gratuitos\\nTipos de compensaciones:\\nBono de productividad\\nBono de puntualidad\\nPregunta(s) de postulación:\\n¿Qué nivel de inglés considera tener y por qué?\\n¿Vives en Cancún?\\nExperiencia:\\nAtención al cliente: 1 año (Deseable)\\nApoyo en ventas: 1 año (Deseable)\\nIdioma:\\nInglés (Deseable)\\nLugar de trabajo: Empleo presencial\\nFecha de inicio prevista: 03/06/2024'},\n",
       " {'title': 'AI-First Software Engineer II, Trilogy (Remote) - $60,000/year USD\\n- job post',\n",
       "  'company': 'Crossover',\n",
       "  'location': 'Cancún, QRoo.•Home Office (Desde casa)',\n",
       "  'benefits': 'N/A',\n",
       "  'description': \"Are you ready to redefine the landscape of software development with AI at your fingertips? Trilogy is on the hunt for pioneering spirits. As we embrace an AI-First approach, we're not just adapting to the future—we're creating it. If you see AI as your ally, ready to augment your every task and unlock new realms of efficiency and creativity, this is your arena.\\nIn the vast expanse of software engineering, only a select few dare to tread where technology meets untapped potential. At Trilogy, we're offering more than a job; we're offering a revolution. A place where AI doesn't replace you but elevates you to a status akin to a sorcerer of code—conjuring solutions, debugging spells, and engineering marvels at a pace and precision beyond mere mortal reach.\\nThis isn't just software development; it's software development reborn. You'll build AI Second Brains that distill domains into essence, wielding RAG vector stores as your crystal ball to foresee and fix bugs before they hatch. Your mission: to catapult our suite of enterprise software into the stratosphere of innovation, satisfaction, and user experience.\\nTrilogy is for the brave, the curious, and the forward-thinking. We're remapping the world of work with AI as our compass. Ready to join the journey?\\n\\nWhat you will be doing\\nEmpowering Projects with AI: Initiate every project with AI, from building features to debugging and diagnosing defects.\\nCrafting AI 2nd Brains: Create AI-driven summaries of product, domain, or company knowledge, making you and your team smarter and faster.\\nHarnessing RAG for Bug Hunting: Use Retrieval-Augmented Generation vector stores to sniff out and squash bugs with unmatched efficiency.\\nInnovating with Cloud and On-prem Solutions: Work on AWS-based cloud-native applications and on-prem products, ensuring they're infused with AI magic.\\nBecoming an AI Pioneer: Lead the charge in integrating AI into software engineering, proving it's a force multiplier, not a replacement.\\n\\nWhat you will NOT be doing\\nManual Debugging Drudgery: Forget the old ways of debugging. You're equipped with AI to spot and solve issues effortlessly.\\nCommanding the Front Lines, Not Muddling through Management: Here, your genius lies in weaving code into solutions, not in marshaling troops or being stuck in project management meetings.\\n\\nKey Responsibilities\\nTransform software development with AI augmentation, leading Trilogy's products to new heights of innovation, efficiency, and user experience.\\n\\nCandidate Requirements\\nAt least 2 years of experience in software development\\nProficiency in Java and C#.\\nExperience with cloud services & development (such as Lambda, EC2, PaaS, containerization, EKS, ECS, etc).\\nA knack for starting every project with AI at the core.\\nPassion for AI and its potential to enhance software development.\\nEagerness to be part of an AI-First future, exploring AI's capabilities beyond conventional applications.\"},\n",
       " {'title': 'Manejador Canino (K9) $14,000 Con bono de Permanencia\\n- job post',\n",
       "  'company': 'Puerto Cancun',\n",
       "  'location': 'Cancún, QRoo.',\n",
       "  'benefits': 'Apoyo para estudios\\nAumentos salariales\\nAutomóvil de la empresa\\nDispositivo móvil de la empresa\\nEstacionamiento de la empresa\\nEstacionamiento gratuito\\nEstacionamiento para empleados',\n",
       "  'description': 'Gusto por el canino\\nHacer recorrido con el canino\\nEstar al pendiente de los alrededores\\nPrevia Experiencia\\nDisponibilidad de horario\\nEstudios preferentemente preparatoria terminada\\nMayor de 23 años\\nContar con cartilla militar o precartilla\\nTipo de puesto: Por tiempo indeterminado\\nSueldo: $14,000.00 al mes\\nHorario:\\nTurno de 8 horas\\nPrestaciones:\\nApoyo para estudios\\nAumentos salariales\\nAutomóvil de la empresa\\nEstacionamiento de la empresa\\nEstacionamiento gratuito\\nHorarios flexibles\\nOpción a contrato indefinido\\nTeléfono de la empresa\\nUniformes gratuitos\\nVacaciones adicionales o permisos con goce de sueldo\\nVales de despensa\\nVales de restaurante\\nTipos de compensaciones:\\nBono de asistencia\\nBono de permanencia\\nBono de puntualidad\\nLugar de trabajo: Empleo presencial'},\n",
       " {'title': 'Recepcionista sin experiencia y con ingles conversacional\\n- job post',\n",
       "  'company': 'Hospital joya',\n",
       "  'location': 'Cancún, QRoo.',\n",
       "  'benefits': 'Seguro de gastos médicos mayores\\nUniformes gratuitos\\nVales de despensa',\n",
       "  'description': 'Brindar atención amable y personalizada en nuestros servicios a pacientes ambulatorios, programados y de urgencias a través de un adecuado manejo del ingreso y egreso de estos procurando que la información sea clara y oportuna para los pacientes y sus familiares manteniendo estrecha comunicación con las distintas áreas operativas y clínicas del hospital facilitando así un servicio con calidad y calidez en los procesos administrativos para el paciente y sus familiares\\nCONOCIMIENTOS HABILIDADES\\nAdministración\\nServicio al Cliente.\\nEquipo de cómputo.\\nTerminales bancarias.\\nTrabajar en equipo\\nSer respetuoso\\nImpresora\\nTipo de puesto: Tiempo completo\\nSueldo: $10,000.00 - $17,000.00 al mes\\nHorario:\\nTurno de 8 horas\\nPrestaciones:\\nSeguro de gastos médicos mayores\\nUniformes gratuitos\\nVales de despensa\\nTipos de compensaciones:\\nBono de asistencia\\nBono de puntualidad\\nLugar de trabajo: Empleo presencial'},\n",
       " {'title': 'Asistente de Dirección\\n- job post',\n",
       "  'company': 'Kapta Rh',\n",
       "  'location': 'Cancún, QRoo.',\n",
       "  'benefits': 'Caja de ahorro\\nOportunidades de crecimiento\\nSeguro de vida',\n",
       "  'description': '¡Únete a nuestro equipo en Kapta RH, una consultoría integral de Recursos Humanos ubicada en Cancún, Quintana Roo!\\nAsistente de Dirección\\nEn Kapta RH, buscamos incorporar a Asistente de Dirección para apoyar al equipo directivo en la gestión eficiente de las actividades diarias. Si eres una persona proactiva, con habilidades excepcionales de organización y comunicación, esta es tu oportunidad para formar parte de un entorno dinámico y desafiante en el área de Recursos Humanos.\\nResponsabilidades:\\nBrindar soporte administrativo y ejecutivo a la Dirección de la empresa.\\nGestionar la agenda y coordinar las citas y reuniones del equipo directivo.\\nPreparar y distribuir informes, presentaciones y documentos para reuniones y eventos.\\nResponder a correos electrónicos y llamadas telefónicas de manera efectiva y profesional.\\nCoordinar viajes, reservaciones y logística para el equipo directivo.\\nMantener la confidencialidad en todos los asuntos relacionados con la Dirección.\\nRealizar seguimiento a tareas y proyectos asignados, asegurando la puntualidad en las entregas.\\nColaborar con otros departamentos para facilitar la comunicación y la ejecución de tareas.\\nRequisitos:\\nTítulo universitario en Administración.\\nExperiencia previa como asistente ejecutivo(a) o en funciones similares.\\nExcelente dominio de herramientas informáticas (Microsoft Office, calendarios en línea, etc.).\\nHabilidades avanzadas de organización y gestión del tiempo.\\nCapacidad para trabajar de manera autónoma y bajo presión.\\nExcelente comunicación verbal y escrita en español e inglés\\nDisponibilidad de tiempo\\nDisponibilidad para viajar\\nOfrecemos:\\nSalario competitivo acorde a experiencia y habilidades.\\nPrestaciones de ley (IMSS, Infonavit, aguinaldo, vacaciones).\\nCaja de ahorro.\\nSeguro de vida.\\nOportunidades de desarrollo profesional en un entorno dinámico.\\nHorario:\\nLunes a Viernes de 8:00 am a 5:00 pm.\\nTipo de puesto: Tiempo completo\\nSueldo: $18,000.00 al mes\\nHorario:\\nRotativo\\nTurno de 10 horas\\nLugar de trabajo: Empleo presencial'},\n",
       " {'title': 'Asistente de Animación\\n- job post',\n",
       "  'company': 'Majestic Resorts',\n",
       "  'location': 'Cancún, QRoo.',\n",
       "  'benefits': 'N/A',\n",
       "  'description': 'En Majestic Resorts el talento humano ha sido siempre la clave de nuestro éxito. Te ofrecemos un excelente ambiente de trabajo donde poder desarrollar todas tus capacidades para crecer juntos profesional y personalmente.\\nMajestic Resorts garantiza la igualdad de trato y oportunidades entre hombres y mujeres en sus procesos de selección y apuesta por un equipo comprometido, motivador y lleno de entusiasmo.\\nMajestic Resorts es una marca de hoteles de alta gama con un servicio excepcional todo incluido.\\nEstamos buscando un Asistente de Animación para nuestro hotel Majestic Elegance Costa Mujeres, con la misión de asistir al Gerente de Animación en sus funciones administrativas, así como apoyar en la operación cuando se requiera.\\nFUNCIONES ESPECIFICAS:\\nRealizar los procesos administrativos del área como listas de asistencia, llevar el orden de los formatos administrativos, manejar el staffing guide, roles de trabajo, manejo de inventarios, compras, requisisiones y órdenes de trabajo.\\nAsistir en la realización del programa de eventos y actividades de animación (deportivas, recreativas y artísticas).\\nBrindar al equipo de trabajo las herramientas necesarias para realizar sus funciones.\\nCoordinar los eventos especiales que involucren a otros departamentos.\\nRealizar el programa de mantenimiento preventivo de los equipos, así como agendar los mantenimientos correctivos necesarios.\\nRealizar los reportes solicitados por el Gerente de Animación y Dirección.\\nParticipar en los proyectos en los que sea requerido por el Jefe Directo o superiores (Capacitaciones, Certificaciones, Programas Institucionales).\\n\\nREQUISITOS:\\nLicenciatura / Ciclo Formativo Grado Superior en Turismo / Administración / Comunicación o similares.\\nConocimiento en administración, en coordinación y logística de cualquier tipo de evento.\\nConocimientos a nivel profesional de Inglés.\\nConocimientos en Office, SAP...\\nCon experiencia previa de animación mínimo un año.\\nBuscamos una persona profesional dinámico, orientado al cliente, con planeación y comunicación efectiva. ¿Eres tú? ¡Queremos conocerte! Inscríbete en el proceso si estás interesado/a en desarrollar tu carrera profesional en una empresa con perspectivas de crecimiento.'},\n",
       " {'title': 'Asistente medica | Matutino\\n- job post',\n",
       "  'company': 'GYNIC | Ginecología Integral',\n",
       "  'location': '77516, Cancún, QRoo.',\n",
       "  'benefits': 'Aumentos salariales\\nOpción a contrato indefinido',\n",
       "  'description': 'Buscamos a LA MEJOR Asistente Médico / Recepcionista (Medio Tiempo)\\nLunes a Sábado\\nOfrecemos:\\n- Prestaciones de Ley (IMSS, INFONAVIT, Vacaciones)\\n- Ambiente de trabajo serio y profesional.\\n- Aumento salarial conforme a constancia, productividad y antigüedad.\\n- Salario bruto integrado mensual $7,500\\nRequerimos:\\n- Experiencia en el puesto (requerida).\\n- Inglés básico (preferido).\\n- Horarios laborales Lunes a Sábado 9am-2pm\\n- Excelencia en atención al cliente (llamadas y mensajes).\\n- Manejo de agenda (indispensable).\\n- Facturación.\\n- Manejo de caja.\\n* Favor de adjuntar CV\\nTipo de puesto: Medio tiempo\\nSueldo: A partir de $7,500.00 al mes\\nHoras previstas: No menos de 30 por semana\\nHorario:\\nTurno matutino\\nPrestaciones:\\nAumentos salariales\\nOpción a contrato indefinido\\nTipos de compensaciones:\\nBono de permanencia\\nExperiencia:\\nRecepción: 1 año (Obligatorio)\\nLugar de trabajo: Empleo presencial'}]"
      ]
     },
     "execution_count": 36,
     "metadata": {},
     "output_type": "execute_result"
    }
   ],
   "source": [
    "job_details"
   ]
  }
 ],
 "metadata": {
  "kernelspec": {
   "display_name": "Python 3",
   "language": "python",
   "name": "python3"
  },
  "language_info": {
   "codemirror_mode": {
    "name": "ipython",
    "version": 3
   },
   "file_extension": ".py",
   "mimetype": "text/x-python",
   "name": "python",
   "nbconvert_exporter": "python",
   "pygments_lexer": "ipython3",
   "version": "3.12.0"
  }
 },
 "nbformat": 4,
 "nbformat_minor": 2
}
